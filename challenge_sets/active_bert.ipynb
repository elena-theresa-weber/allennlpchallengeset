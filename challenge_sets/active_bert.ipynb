{
 "cells": [
  {
   "cell_type": "markdown",
   "metadata": {},
   "source": [
    "# Active - Passive AllenNLP SRL BERT"
   ]
  },
  {
   "cell_type": "code",
   "execution_count": 23,
   "metadata": {},
   "outputs": [],
   "source": [
    "from allennlp_models.pretrained import load_predictor"
   ]
  },
  {
   "cell_type": "code",
   "execution_count": 24,
   "metadata": {},
   "outputs": [],
   "source": [
    "import csv"
   ]
  },
  {
   "cell_type": "code",
   "execution_count": 25,
   "metadata": {},
   "outputs": [],
   "source": [
    "import checklist\n",
    "from checklist.editor import Editor\n",
    "from checklist.perturb import Perturb\n",
    "from checklist.test_types import MFT, INV, DIR\n",
    "from checklist.expect import Expect"
   ]
  },
  {
   "cell_type": "code",
   "execution_count": 26,
   "metadata": {},
   "outputs": [],
   "source": [
    "from checklist.pred_wrapper import PredictorWrapper"
   ]
  },
  {
   "cell_type": "code",
   "execution_count": 27,
   "metadata": {},
   "outputs": [],
   "source": [
    "import logging\n",
    "logging.getLogger('allennlp.common.params').disabled = True \n",
    "logging.getLogger('allennlp.nn.initializers').disabled = True \n",
    "logging.getLogger('allennlp.modules.token_embedders.embedding').disabled = True \n",
    "logging.getLogger('urllib3.connectionpool').disabled = True \n",
    "logging.getLogger('allennlp.common.plugins').disabled = True \n",
    "logging.getLogger('allennlp.common.model_card').disabled = True \n",
    "logging.getLogger('allennlp.models.archival').disabled = True \n",
    "logging.getLogger('allennlp.data.vocabulary').disabled = True \n",
    "logging.getLogger('cached_path').disabled = True"
   ]
  },
  {
   "cell_type": "markdown",
   "metadata": {},
   "source": [
    "## Active"
   ]
  },
  {
   "cell_type": "code",
   "execution_count": 28,
   "metadata": {},
   "outputs": [
    {
     "name": "stderr",
     "output_type": "stream",
     "text": [
      "Some weights of the model checkpoint at bert-base-uncased were not used when initializing BertModel: ['cls.predictions.decoder.weight', 'cls.predictions.transform.LayerNorm.bias', 'cls.predictions.transform.dense.bias', 'cls.seq_relationship.weight', 'cls.predictions.bias', 'cls.seq_relationship.bias', 'cls.predictions.transform.dense.weight', 'cls.predictions.transform.LayerNorm.weight']\n",
      "- This IS expected if you are initializing BertModel from the checkpoint of a model trained on another task or with another architecture (e.g. initializing a BertForSequenceClassification model from a BertForPreTraining model).\n",
      "- This IS NOT expected if you are initializing BertModel from the checkpoint of a model that you expect to be exactly identical (initializing a BertForSequenceClassification model from a BertForSequenceClassification model).\n"
     ]
    },
    {
     "data": {
      "text/plain": [
       "{'verbs': [{'verb': 'cuddled',\n",
       "   'description': '[ARG0: Peter] [V: cuddled] [ARG1: someone] .',\n",
       "   'tags': ['B-ARG0', 'B-V', 'B-ARG1', 'O']}],\n",
       " 'words': ['Peter', 'cuddled', 'someone', '.']}"
      ]
     },
     "execution_count": 28,
     "metadata": {},
     "output_type": "execute_result"
    }
   ],
   "source": [
    "srl_predictor = load_predictor('structured-prediction-srl-bert')\n",
    "output = srl_predictor.predict(\"Peter cuddled someone.\")\n",
    "output"
   ]
  },
  {
   "cell_type": "code",
   "execution_count": 29,
   "metadata": {},
   "outputs": [],
   "source": [
    "def predict_srl(data):\n",
    "    \n",
    "    pred = []\n",
    "    for d in data:\n",
    "        pred.append(srl_predictor.predict(d))\n",
    "    return pred\n",
    "\n",
    "predict_and_conf = PredictorWrapper.wrap_predict(predict_srl)"
   ]
  },
  {
   "cell_type": "code",
   "execution_count": 9,
   "metadata": {},
   "outputs": [
    {
     "data": {
      "text/plain": [
       "([{'verbs': [{'verb': 'cuddled',\n",
       "     'description': '[ARG0: Peter] [V: cuddled] [ARG1: someone] .',\n",
       "     'tags': ['B-ARG0', 'B-V', 'B-ARG1', 'O']}],\n",
       "   'words': ['Peter', 'cuddled', 'someone', '.']}],\n",
       " array([1.]))"
      ]
     },
     "execution_count": 9,
     "metadata": {},
     "output_type": "execute_result"
    }
   ],
   "source": [
    "d = [\"Peter cuddled someone.\"]\n",
    "pred = predict_and_conf(d)\n",
    "pred"
   ]
  },
  {
   "cell_type": "code",
   "execution_count": 10,
   "metadata": {},
   "outputs": [],
   "source": [
    "def format_srl(x, pred, conf, label=None, meta=None):\n",
    "    \n",
    "    return pred['verbs'][0]['description']"
   ]
  },
  {
   "cell_type": "code",
   "execution_count": 11,
   "metadata": {},
   "outputs": [],
   "source": [
    "def get_arg(pred, arg_target='ARG1'):\n",
    "    # we assume one predicate:\n",
    "    predicate_arguments = pred['verbs'][0]\n",
    "    #print(predicate_arguments)\n",
    "    words = pred['words']\n",
    "    tags = predicate_arguments['tags']\n",
    "    \n",
    "    arg_list = []\n",
    "    for t, w in zip(tags, words):\n",
    "        arg = t\n",
    "        if '-' in t:\n",
    "            arg = t.split('-')[1]\n",
    "        if arg == arg_target:\n",
    "            arg_list.append(w)\n",
    "    arg_set = set(arg_list)\n",
    "    return arg_set"
   ]
  },
  {
   "cell_type": "code",
   "execution_count": 12,
   "metadata": {},
   "outputs": [],
   "source": [
    "def format_srl(x, pred, conf, label=None, meta=None):\n",
    "    results = []\n",
    "    predicate_structure = pred['verbs'][0]['description']\n",
    "        \n",
    "    return predicate_structure"
   ]
  },
  {
   "cell_type": "code",
   "execution_count": 13,
   "metadata": {},
   "outputs": [],
   "source": [
    "def found_arg0_people(x, pred, conf, label=None, meta=None):\n",
    "    \n",
    "    # people should be recognized as arg1\n",
    "\n",
    "    people = set([meta['first_name']])\n",
    "    arg_0 = get_arg(pred, arg_target='ARG0')\n",
    "\n",
    "    if arg_0 == people:\n",
    "        pass_ = True\n",
    "    else:\n",
    "        pass_ = False\n",
    "    return pass_\n",
    "\n",
    "\n",
    "expect_arg0 = Expect.single(found_arg0_people)"
   ]
  },
  {
   "cell_type": "code",
   "execution_count": 14,
   "metadata": {},
   "outputs": [],
   "source": [
    "def found_arg1_people(x, pred, conf, label=None, meta=None):\n",
    "    \n",
    "    # people should be recognized as arg1\n",
    "\n",
    "    people = set([meta['first_name']])\n",
    "    arg_1 = get_arg(pred, arg_target='ARG1')\n",
    "\n",
    "    if arg_1 == people:\n",
    "        pass_ = True\n",
    "    else:\n",
    "        pass_ = False\n",
    "    return pass_\n",
    "\n",
    "\n",
    "expect_arg1 = Expect.single(found_arg1_people)"
   ]
  },
  {
   "cell_type": "code",
   "execution_count": 12,
   "metadata": {},
   "outputs": [
    {
     "name": "stdout",
     "output_type": "stream",
     "text": [
      "Predicting 50 examples\n",
      "Test cases:      50\n",
      "Fails (rate):    24 (48.0%)\n",
      "\n",
      "Example fails:\n",
      "Jerry [V: cuddled] [ARG1: someone .]\n",
      "----\n",
      "Roy [V: cuddled] [ARG1: someone] .\n",
      "----\n",
      "[ARGM-MNR: Patrick] [V: cuddled] [ARG1: someone] .\n",
      "----\n",
      "['Larry', 'cuddled', 'someone', '.'] [False]\n",
      "['Nick', 'cuddled', 'someone', '.'] [False]\n",
      "['Mark', 'cuddled', 'someone', '.'] [ True]\n",
      "['Mark', 'cuddled', 'someone', '.'] [ True]\n",
      "['Joe', 'cuddled', 'someone', '.'] [False]\n",
      "['Ed', 'cuddled', 'someone', '.'] [False]\n",
      "['Edwin', 'cuddled', 'someone', '.'] [ True]\n",
      "['Sandra', 'cuddled', 'someone', '.'] [ True]\n",
      "['Laura', 'cuddled', 'someone', '.'] [False]\n",
      "['Sue', 'cuddled', 'someone', '.'] [ True]\n",
      "['Susan', 'cuddled', 'someone', '.'] [False]\n",
      "['Kate', 'cuddled', 'someone', '.'] [False]\n",
      "['Tim', 'cuddled', 'someone', '.'] [False]\n",
      "['Rebecca', 'cuddled', 'someone', '.'] [False]\n",
      "['Lynn', 'cuddled', 'someone', '.'] [ True]\n",
      "['Kathy', 'cuddled', 'someone', '.'] [False]\n",
      "['Katherine', 'cuddled', 'someone', '.'] [ True]\n",
      "['Lawrence', 'cuddled', 'someone', '.'] [ True]\n",
      "['Roy', 'cuddled', 'someone', '.'] [False]\n",
      "['Keith', 'cuddled', 'someone', '.'] [ True]\n",
      "['Frederick', 'cuddled', 'someone', '.'] [ True]\n",
      "['Nick', 'cuddled', 'someone', '.'] [False]\n",
      "['Dan', 'cuddled', 'someone', '.'] [ True]\n",
      "['Charlie', 'cuddled', 'someone', '.'] [False]\n",
      "['Edward', 'cuddled', 'someone', '.'] [ True]\n",
      "['Lawrence', 'cuddled', 'someone', '.'] [ True]\n",
      "['Cynthia', 'cuddled', 'someone', '.'] [ True]\n",
      "['Jennifer', 'cuddled', 'someone', '.'] [False]\n",
      "['Alison', 'cuddled', 'someone', '.'] [False]\n",
      "['Anna', 'cuddled', 'someone', '.'] [False]\n",
      "['Frederick', 'cuddled', 'someone', '.'] [ True]\n",
      "['Jerry', 'cuddled', 'someone', '.'] [False]\n",
      "['Lynn', 'cuddled', 'someone', '.'] [ True]\n",
      "['Mark', 'cuddled', 'someone', '.'] [ True]\n",
      "['Ellen', 'cuddled', 'someone', '.'] [ True]\n",
      "['Albert', 'cuddled', 'someone', '.'] [ True]\n",
      "['Diane', 'cuddled', 'someone', '.'] [False]\n",
      "['Robert', 'cuddled', 'someone', '.'] [ True]\n",
      "['Albert', 'cuddled', 'someone', '.'] [ True]\n",
      "['Jill', 'cuddled', 'someone', '.'] [ True]\n",
      "['Gary', 'cuddled', 'someone', '.'] [ True]\n",
      "['Diane', 'cuddled', 'someone', '.'] [False]\n",
      "['William', 'cuddled', 'someone', '.'] [ True]\n",
      "['Jim', 'cuddled', 'someone', '.'] [False]\n",
      "['Dave', 'cuddled', 'someone', '.'] [False]\n",
      "['Patrick', 'cuddled', 'someone', '.'] [False]\n",
      "['Arthur', 'cuddled', 'someone', '.'] [ True]\n",
      "['Jerry', 'cuddled', 'someone', '.'] [False]\n",
      "['Donald', 'cuddled', 'someone', '.'] [False]\n",
      "['Walter', 'cuddled', 'someone', '.'] [ True]\n"
     ]
    }
   ],
   "source": [
    "# initialize editor object\n",
    "editor = Editor()\n",
    "\n",
    "# create examples ARG0\n",
    "t = editor.template(\"{first_name} cuddled someone.\", meta=True,nsamples=50, remove_duplicates=True)\n",
    "with open('/datasets/active_arg0_cuddled_bert.txt', 'w') as f:\n",
    "    print(t.data, file = f)\n",
    "\n",
    "import csv\n",
    "# initialize a test object\n",
    "test = MFT(**t, name = 'detect_arg0_name_default_position', expect=expect_arg0)\n",
    "output = test.run(predict_and_conf)\n",
    "test.summary(format_example_fn=format_srl)\n",
    "i = test.results['preds']\n",
    "expect_for_i = test.results['expect_results']\n",
    "with open ('/results/active_arg0_cuddled_bert.csv','w') as f:\n",
    "    writer = csv.writer(f)\n",
    "    for result, exp in zip(i, expect_for_i):\n",
    "        \n",
    "        case = result['words']\n",
    "        exp = exp\n",
    "        writer.writerow([case, exp])\n",
    "        print(case,exp)"
   ]
  },
  {
   "cell_type": "code",
   "execution_count": 15,
   "metadata": {},
   "outputs": [
    {
     "name": "stdout",
     "output_type": "stream",
     "text": [
      "Predicting 50 examples\n",
      "Test cases:      50\n",
      "Fails (rate):    14 (28.0%)\n",
      "\n",
      "Example fails:\n",
      "Peter [V: cuddled] [ARG2: Deborah] .\n",
      "----\n",
      "[ARG0: Peter] [V: cuddled] [ARG2: Billy] .\n",
      "----\n",
      "Peter [V: cuddled] [ARG2: Ellen] .\n",
      "----\n",
      "['Peter', 'cuddled', 'Donna', '.'] [ True]\n",
      "['Peter', 'cuddled', 'Louis', '.'] [ True]\n",
      "['Peter', 'cuddled', 'Charlotte', '.'] [ True]\n",
      "['Peter', 'cuddled', 'Anne', '.'] [False]\n",
      "['Peter', 'cuddled', 'Sandra', '.'] [False]\n",
      "['Peter', 'cuddled', 'Pamela', '.'] [ True]\n",
      "['Peter', 'cuddled', 'Fiona', '.'] [ True]\n",
      "['Peter', 'cuddled', 'Anna', '.'] [ True]\n",
      "['Peter', 'cuddled', 'Joseph', '.'] [False]\n",
      "['Peter', 'cuddled', 'Diana', '.'] [False]\n",
      "['Peter', 'cuddled', 'Jimmy', '.'] [ True]\n",
      "['Peter', 'cuddled', 'Jessica', '.'] [ True]\n",
      "['Peter', 'cuddled', 'Tim', '.'] [ True]\n",
      "['Peter', 'cuddled', 'Benjamin', '.'] [ True]\n",
      "['Peter', 'cuddled', 'Sophie', '.'] [ True]\n",
      "['Peter', 'cuddled', 'Howard', '.'] [ True]\n",
      "['Peter', 'cuddled', 'Nick', '.'] [False]\n",
      "['Peter', 'cuddled', 'Jeff', '.'] [ True]\n",
      "['Peter', 'cuddled', 'Rachel', '.'] [False]\n",
      "['Peter', 'cuddled', 'Wendy', '.'] [ True]\n",
      "['Peter', 'cuddled', 'Alexander', '.'] [ True]\n",
      "['Peter', 'cuddled', 'Claire', '.'] [ True]\n",
      "['Peter', 'cuddled', 'Jane', '.'] [ True]\n",
      "['Peter', 'cuddled', 'Frances', '.'] [ True]\n",
      "['Peter', 'cuddled', 'Kathleen', '.'] [ True]\n",
      "['Peter', 'cuddled', 'Sam', '.'] [ True]\n",
      "['Peter', 'cuddled', 'Al', '.'] [ True]\n",
      "['Peter', 'cuddled', 'Stephen', '.'] [ True]\n",
      "['Peter', 'cuddled', 'Roger', '.'] [ True]\n",
      "['Peter', 'cuddled', 'Carl', '.'] [ True]\n",
      "['Peter', 'cuddled', 'Ben', '.'] [ True]\n",
      "['Peter', 'cuddled', 'Dorothy', '.'] [ True]\n",
      "['Peter', 'cuddled', 'Louis', '.'] [ True]\n",
      "['Peter', 'cuddled', 'Ellen', '.'] [False]\n",
      "['Peter', 'cuddled', 'Eric', '.'] [ True]\n",
      "['Peter', 'cuddled', 'Alexander', '.'] [ True]\n",
      "['Peter', 'cuddled', 'Deborah', '.'] [False]\n",
      "['Peter', 'cuddled', 'John', '.'] [ True]\n",
      "['Peter', 'cuddled', 'Christine', '.'] [False]\n",
      "['Peter', 'cuddled', 'Lawrence', '.'] [ True]\n",
      "['Peter', 'cuddled', 'Jennifer', '.'] [ True]\n",
      "['Peter', 'cuddled', 'Anna', '.'] [ True]\n",
      "['Peter', 'cuddled', 'Ray', '.'] [False]\n",
      "['Peter', 'cuddled', 'Chris', '.'] [ True]\n",
      "['Peter', 'cuddled', 'Kathy', '.'] [False]\n",
      "['Peter', 'cuddled', 'Eleanor', '.'] [False]\n",
      "['Peter', 'cuddled', 'Lauren', '.'] [ True]\n",
      "['Peter', 'cuddled', 'Ralph', '.'] [False]\n",
      "['Peter', 'cuddled', 'Jane', '.'] [ True]\n",
      "['Peter', 'cuddled', 'Billy', '.'] [False]\n"
     ]
    }
   ],
   "source": [
    "# initialize editor object\n",
    "editor = Editor()\n",
    "\n",
    "# create examples ARG0\n",
    "t = editor.template(\"Peter cuddled {first_name}.\", meta=True,nsamples=50, remove_duplicates=True)\n",
    "with open('/datasets/active_arg1_cuddled_bert.txt', 'w') as f:\n",
    "    print(t.data, file = f)\n",
    "\n",
    "# initialize a test object\n",
    "test = MFT(**t, name = 'detect_arg1_name_default_position', expect=expect_arg1)\n",
    "output = test.run(predict_and_conf)\n",
    "test.summary(format_example_fn=format_srl)\n",
    "i = test.results['preds']\n",
    "expect_for_i = test.results['expect_results']\n",
    "with open ('/results/active_arg1_cuddled_bert.csv','w') as f:\n",
    "    writer = csv.writer(f)\n",
    "    for result, exp in zip(i, expect_for_i):\n",
    "        \n",
    "        case = result['words']\n",
    "        exp = exp\n",
    "        writer.writerow([case, exp])\n",
    "        print(case,exp)"
   ]
  },
  {
   "cell_type": "code",
   "execution_count": 13,
   "metadata": {},
   "outputs": [
    {
     "name": "stdout",
     "output_type": "stream",
     "text": [
      "Predicting 50 examples\n",
      "Test cases:      50\n",
      "Fails (rate):    2 (4.0%)\n",
      "\n",
      "Example fails:\n",
      "Anthony [V: kissed] [ARG1: someone] .\n",
      "----\n",
      "[ARGM-ADV: Alfred] [V: kissed] [ARG1: someone] .\n",
      "----\n",
      "['Stephanie', 'kissed', 'someone', '.'] [ True]\n",
      "['Christopher', 'kissed', 'someone', '.'] [ True]\n",
      "['Marilyn', 'kissed', 'someone', '.'] [ True]\n",
      "['Robin', 'kissed', 'someone', '.'] [ True]\n",
      "['Sally', 'kissed', 'someone', '.'] [ True]\n",
      "['Ray', 'kissed', 'someone', '.'] [ True]\n",
      "['Jay', 'kissed', 'someone', '.'] [ True]\n",
      "['Katherine', 'kissed', 'someone', '.'] [ True]\n",
      "['Christopher', 'kissed', 'someone', '.'] [ True]\n",
      "['Ryan', 'kissed', 'someone', '.'] [ True]\n",
      "['Christine', 'kissed', 'someone', '.'] [ True]\n",
      "['Lisa', 'kissed', 'someone', '.'] [ True]\n",
      "['Sandra', 'kissed', 'someone', '.'] [ True]\n",
      "['Alexander', 'kissed', 'someone', '.'] [ True]\n",
      "['Alison', 'kissed', 'someone', '.'] [ True]\n",
      "['Evelyn', 'kissed', 'someone', '.'] [ True]\n",
      "['Anthony', 'kissed', 'someone', '.'] [False]\n",
      "['Tom', 'kissed', 'someone', '.'] [ True]\n",
      "['Sandra', 'kissed', 'someone', '.'] [ True]\n",
      "['Bruce', 'kissed', 'someone', '.'] [ True]\n",
      "['Steve', 'kissed', 'someone', '.'] [ True]\n",
      "['Christopher', 'kissed', 'someone', '.'] [ True]\n",
      "['Anne', 'kissed', 'someone', '.'] [ True]\n",
      "['Fiona', 'kissed', 'someone', '.'] [ True]\n",
      "['Richard', 'kissed', 'someone', '.'] [ True]\n",
      "['Ken', 'kissed', 'someone', '.'] [ True]\n",
      "['Mark', 'kissed', 'someone', '.'] [ True]\n",
      "['Alfred', 'kissed', 'someone', '.'] [False]\n",
      "['Deborah', 'kissed', 'someone', '.'] [ True]\n",
      "['Billy', 'kissed', 'someone', '.'] [ True]\n",
      "['Louise', 'kissed', 'someone', '.'] [ True]\n",
      "['Jimmy', 'kissed', 'someone', '.'] [ True]\n",
      "['Lisa', 'kissed', 'someone', '.'] [ True]\n",
      "['Henry', 'kissed', 'someone', '.'] [ True]\n",
      "['Bruce', 'kissed', 'someone', '.'] [ True]\n",
      "['Ruth', 'kissed', 'someone', '.'] [ True]\n",
      "['Jill', 'kissed', 'someone', '.'] [ True]\n",
      "['Adam', 'kissed', 'someone', '.'] [ True]\n",
      "['Daniel', 'kissed', 'someone', '.'] [ True]\n",
      "['Ellen', 'kissed', 'someone', '.'] [ True]\n",
      "['Karen', 'kissed', 'someone', '.'] [ True]\n",
      "['Amanda', 'kissed', 'someone', '.'] [ True]\n",
      "['Caroline', 'kissed', 'someone', '.'] [ True]\n",
      "['Catherine', 'kissed', 'someone', '.'] [ True]\n",
      "['Adam', 'kissed', 'someone', '.'] [ True]\n",
      "['Andrea', 'kissed', 'someone', '.'] [ True]\n",
      "['Ian', 'kissed', 'someone', '.'] [ True]\n",
      "['Ben', 'kissed', 'someone', '.'] [ True]\n",
      "['Colin', 'kissed', 'someone', '.'] [ True]\n",
      "['Ed', 'kissed', 'someone', '.'] [ True]\n"
     ]
    }
   ],
   "source": [
    "# initialize editor object\n",
    "editor = Editor()\n",
    "\n",
    "# create examples ARG0\n",
    "t = editor.template(\"{first_name} kissed someone.\", meta=True,nsamples=50, remove_duplicates=True)\n",
    "\n",
    "with open('/datasets/active_arg0_kissed_bert.txt', 'w') as f:\n",
    "    print(t.data, file = f)\n",
    "\n",
    "# initialize a test object\n",
    "test = MFT(**t, name = 'detect_arg0_name_default_position', expect=expect_arg0)\n",
    "output = test.run(predict_and_conf)\n",
    "test.summary(format_example_fn=format_srl)\n",
    "i = test.results['preds']\n",
    "expect_for_i = test.results['expect_results']\n",
    "with open ('/results/active_arg0_kissed_bert.csv','w') as f:\n",
    "    writer = csv.writer(f)\n",
    "    for result, exp in zip(i, expect_for_i):\n",
    "        \n",
    "        case = result['words']\n",
    "        exp = exp\n",
    "        writer.writerow([case, exp])\n",
    "        print(case,exp)"
   ]
  },
  {
   "cell_type": "markdown",
   "metadata": {},
   "source": [
    "# Negation"
   ]
  },
  {
   "cell_type": "code",
   "execution_count": 30,
   "metadata": {},
   "outputs": [],
   "source": [
    "def format_srl(x, pred, conf, label=None, meta=None):\n",
    "    \n",
    "    return pred['verbs'][1]['description']"
   ]
  },
  {
   "cell_type": "code",
   "execution_count": 31,
   "metadata": {},
   "outputs": [],
   "source": [
    "def get_arg(pred, arg_target='ARG1'):\n",
    "    # we assume one predicate:\n",
    "    predicate_arguments = pred['verbs'][1]\n",
    "    #print(predicate_arguments)\n",
    "    words = pred['words']\n",
    "    tags = predicate_arguments['tags']\n",
    "    \n",
    "    arg_list = []\n",
    "    for t, w in zip(tags, words):\n",
    "        arg = t\n",
    "        if '-' in t:\n",
    "            arg = t.split('-')[1]\n",
    "        if arg == arg_target:\n",
    "            arg_list.append(w)\n",
    "    arg_set = set(arg_list)\n",
    "    return arg_set"
   ]
  },
  {
   "cell_type": "code",
   "execution_count": 32,
   "metadata": {},
   "outputs": [],
   "source": [
    "def format_srl(x, pred, conf, label=None, meta=None):\n",
    "    results = []\n",
    "    predicate_structure = pred['verbs'][1]['description']\n",
    "        \n",
    "    return predicate_structure"
   ]
  },
  {
   "cell_type": "code",
   "execution_count": 33,
   "metadata": {},
   "outputs": [],
   "source": [
    "def found_arg0_people(x, pred, conf, label=None, meta=None):\n",
    "    \n",
    "    # people should be recognized as arg1\n",
    "\n",
    "    people = set([meta['first_name']])\n",
    "    arg_0 = get_arg(pred, arg_target='ARG0')\n",
    "\n",
    "    if arg_0 == people:\n",
    "        pass_ = True\n",
    "    else:\n",
    "        pass_ = False\n",
    "    return pass_\n",
    "\n",
    "\n",
    "expect_arg0 = Expect.single(found_arg0_people)"
   ]
  },
  {
   "cell_type": "code",
   "execution_count": 34,
   "metadata": {},
   "outputs": [
    {
     "data": {
      "text/plain": [
       "([{'verbs': [{'verb': 'does',\n",
       "     'description': \"Peter [V: does] n't cuddled someone .\",\n",
       "     'tags': ['O', 'B-V', 'O', 'O', 'O', 'O']},\n",
       "    {'verb': 'cuddled',\n",
       "     'description': \"[ARG0: Peter] does [ARGM-NEG: n't] [V: cuddled] [ARG1: someone] .\",\n",
       "     'tags': ['B-ARG0', 'O', 'B-ARGM-NEG', 'B-V', 'B-ARG1', 'O']}],\n",
       "   'words': ['Peter', 'does', \"n't\", 'cuddled', 'someone', '.']}],\n",
       " array([1.]))"
      ]
     },
     "execution_count": 34,
     "metadata": {},
     "output_type": "execute_result"
    }
   ],
   "source": [
    "d = [\"Peter doesn't cuddled someone.\"]\n",
    "pred = predict_and_conf(d)\n",
    "pred"
   ]
  },
  {
   "cell_type": "code",
   "execution_count": 35,
   "metadata": {},
   "outputs": [
    {
     "name": "stdout",
     "output_type": "stream",
     "text": [
      "Predicting 50 examples\n",
      "Test cases:      50\n",
      "Fails (rate):    0 (0.0%)\n",
      "['Kenneth', 'does', 'not', 'cuddle', 'someone', '.'] [ True]\n",
      "['Robin', 'does', 'not', 'cuddle', 'someone', '.'] [ True]\n",
      "['Alice', 'does', 'not', 'cuddle', 'someone', '.'] [ True]\n",
      "['Linda', 'does', 'not', 'cuddle', 'someone', '.'] [ True]\n",
      "['Frances', 'does', 'not', 'cuddle', 'someone', '.'] [ True]\n",
      "['Alice', 'does', 'not', 'cuddle', 'someone', '.'] [ True]\n",
      "['Andrea', 'does', 'not', 'cuddle', 'someone', '.'] [ True]\n",
      "['Hugh', 'does', 'not', 'cuddle', 'someone', '.'] [ True]\n",
      "['Carolyn', 'does', 'not', 'cuddle', 'someone', '.'] [ True]\n",
      "['David', 'does', 'not', 'cuddle', 'someone', '.'] [ True]\n",
      "['Ryan', 'does', 'not', 'cuddle', 'someone', '.'] [ True]\n",
      "['Ian', 'does', 'not', 'cuddle', 'someone', '.'] [ True]\n",
      "['Steve', 'does', 'not', 'cuddle', 'someone', '.'] [ True]\n",
      "['Gary', 'does', 'not', 'cuddle', 'someone', '.'] [ True]\n",
      "['David', 'does', 'not', 'cuddle', 'someone', '.'] [ True]\n",
      "['Jay', 'does', 'not', 'cuddle', 'someone', '.'] [ True]\n",
      "['Kate', 'does', 'not', 'cuddle', 'someone', '.'] [ True]\n",
      "['Ralph', 'does', 'not', 'cuddle', 'someone', '.'] [ True]\n",
      "['Ann', 'does', 'not', 'cuddle', 'someone', '.'] [ True]\n",
      "['Christopher', 'does', 'not', 'cuddle', 'someone', '.'] [ True]\n",
      "['Claire', 'does', 'not', 'cuddle', 'someone', '.'] [ True]\n",
      "['Mike', 'does', 'not', 'cuddle', 'someone', '.'] [ True]\n",
      "['Billy', 'does', 'not', 'cuddle', 'someone', '.'] [ True]\n",
      "['Katie', 'does', 'not', 'cuddle', 'someone', '.'] [ True]\n",
      "['John', 'does', 'not', 'cuddle', 'someone', '.'] [ True]\n",
      "['Margaret', 'does', 'not', 'cuddle', 'someone', '.'] [ True]\n",
      "['Fred', 'does', 'not', 'cuddle', 'someone', '.'] [ True]\n",
      "['Amy', 'does', 'not', 'cuddle', 'someone', '.'] [ True]\n",
      "['Paul', 'does', 'not', 'cuddle', 'someone', '.'] [ True]\n",
      "['Matt', 'does', 'not', 'cuddle', 'someone', '.'] [ True]\n",
      "['Amy', 'does', 'not', 'cuddle', 'someone', '.'] [ True]\n",
      "['Billy', 'does', 'not', 'cuddle', 'someone', '.'] [ True]\n",
      "['Kenneth', 'does', 'not', 'cuddle', 'someone', '.'] [ True]\n",
      "['Jay', 'does', 'not', 'cuddle', 'someone', '.'] [ True]\n",
      "['Sandra', 'does', 'not', 'cuddle', 'someone', '.'] [ True]\n",
      "['Rose', 'does', 'not', 'cuddle', 'someone', '.'] [ True]\n",
      "['Julia', 'does', 'not', 'cuddle', 'someone', '.'] [ True]\n",
      "['Larry', 'does', 'not', 'cuddle', 'someone', '.'] [ True]\n",
      "['Alan', 'does', 'not', 'cuddle', 'someone', '.'] [ True]\n",
      "['Elaine', 'does', 'not', 'cuddle', 'someone', '.'] [ True]\n",
      "['Alan', 'does', 'not', 'cuddle', 'someone', '.'] [ True]\n",
      "['Samuel', 'does', 'not', 'cuddle', 'someone', '.'] [ True]\n",
      "['Judith', 'does', 'not', 'cuddle', 'someone', '.'] [ True]\n",
      "['Amy', 'does', 'not', 'cuddle', 'someone', '.'] [ True]\n",
      "['Matt', 'does', 'not', 'cuddle', 'someone', '.'] [ True]\n",
      "['Ashley', 'does', 'not', 'cuddle', 'someone', '.'] [ True]\n",
      "['Jerry', 'does', 'not', 'cuddle', 'someone', '.'] [ True]\n",
      "['Jill', 'does', 'not', 'cuddle', 'someone', '.'] [ True]\n",
      "['Sandra', 'does', 'not', 'cuddle', 'someone', '.'] [ True]\n",
      "['George', 'does', 'not', 'cuddle', 'someone', '.'] [ True]\n"
     ]
    }
   ],
   "source": [
    "# initialize editor object\n",
    "editor = Editor()\n",
    "\n",
    "# create examples ARG0\n",
    "t = editor.template(\"{first_name} does not cuddle someone.\", meta=True,nsamples=50, remove_duplicates=True)\n",
    "\n",
    "with open('/datasets/active_arg0_negation1_bert.txt', 'w') as f:\n",
    "    print(t.data, file = f)\n",
    "\n",
    "# initialize a test object\n",
    "test = MFT(**t, name = 'detect_arg0_name_default_position', expect=expect_arg0)\n",
    "output = test.run(predict_and_conf)\n",
    "test.summary(format_example_fn=format_srl)\n",
    "i = test.results['preds']\n",
    "expect_for_i = test.results['expect_results']\n",
    "with open ('/results/active_arg0_negation1_bert.csv','w') as f:\n",
    "    writer = csv.writer(f)\n",
    "    for result, exp in zip(i, expect_for_i):\n",
    "        \n",
    "        case = result['words']\n",
    "        exp = exp\n",
    "        writer.writerow([case, exp])\n",
    "        print(case,exp)"
   ]
  },
  {
   "cell_type": "code",
   "execution_count": 36,
   "metadata": {},
   "outputs": [
    {
     "name": "stdout",
     "output_type": "stream",
     "text": [
      "Predicting 50 examples\n",
      "Test cases:      50\n",
      "Fails (rate):    2 (4.0%)\n",
      "\n",
      "Example fails:\n",
      "[ARGM-DIS: Jay] does [ARGM-NEG: n't] [V: cuddle] [ARG1: someone] .\n",
      "----\n",
      "[ARGM-DIS: Ken] does [ARGM-NEG: n't] [V: cuddle] [ARG1: someone] .\n",
      "----\n",
      "['Ryan', 'does', \"n't\", 'cuddle', 'someone', '.'] [ True]\n",
      "['Caroline', 'does', \"n't\", 'cuddle', 'someone', '.'] [ True]\n",
      "['Ken', 'does', \"n't\", 'cuddle', 'someone', '.'] [False]\n",
      "['Heather', 'does', \"n't\", 'cuddle', 'someone', '.'] [ True]\n",
      "['Lauren', 'does', \"n't\", 'cuddle', 'someone', '.'] [ True]\n",
      "['Pamela', 'does', \"n't\", 'cuddle', 'someone', '.'] [ True]\n",
      "['Lawrence', 'does', \"n't\", 'cuddle', 'someone', '.'] [ True]\n",
      "['Dick', 'does', \"n't\", 'cuddle', 'someone', '.'] [ True]\n",
      "['Anthony', 'does', \"n't\", 'cuddle', 'someone', '.'] [ True]\n",
      "['Ian', 'does', \"n't\", 'cuddle', 'someone', '.'] [ True]\n",
      "['Melissa', 'does', \"n't\", 'cuddle', 'someone', '.'] [ True]\n",
      "['Fred', 'does', \"n't\", 'cuddle', 'someone', '.'] [ True]\n",
      "['Sarah', 'does', \"n't\", 'cuddle', 'someone', '.'] [ True]\n",
      "['Nicole', 'does', \"n't\", 'cuddle', 'someone', '.'] [ True]\n",
      "['Colin', 'does', \"n't\", 'cuddle', 'someone', '.'] [ True]\n",
      "['Lauren', 'does', \"n't\", 'cuddle', 'someone', '.'] [ True]\n",
      "['Jay', 'does', \"n't\", 'cuddle', 'someone', '.'] [False]\n",
      "['Michael', 'does', \"n't\", 'cuddle', 'someone', '.'] [ True]\n",
      "['Julia', 'does', \"n't\", 'cuddle', 'someone', '.'] [ True]\n",
      "['Christine', 'does', \"n't\", 'cuddle', 'someone', '.'] [ True]\n",
      "['Eric', 'does', \"n't\", 'cuddle', 'someone', '.'] [ True]\n",
      "['Dan', 'does', \"n't\", 'cuddle', 'someone', '.'] [ True]\n",
      "['Dave', 'does', \"n't\", 'cuddle', 'someone', '.'] [ True]\n",
      "['Michelle', 'does', \"n't\", 'cuddle', 'someone', '.'] [ True]\n",
      "['Steve', 'does', \"n't\", 'cuddle', 'someone', '.'] [ True]\n",
      "['Jennifer', 'does', \"n't\", 'cuddle', 'someone', '.'] [ True]\n",
      "['Bruce', 'does', \"n't\", 'cuddle', 'someone', '.'] [ True]\n",
      "['Kate', 'does', \"n't\", 'cuddle', 'someone', '.'] [ True]\n",
      "['Ruth', 'does', \"n't\", 'cuddle', 'someone', '.'] [ True]\n",
      "['Stephen', 'does', \"n't\", 'cuddle', 'someone', '.'] [ True]\n",
      "['Frederick', 'does', \"n't\", 'cuddle', 'someone', '.'] [ True]\n",
      "['Steve', 'does', \"n't\", 'cuddle', 'someone', '.'] [ True]\n",
      "['Caroline', 'does', \"n't\", 'cuddle', 'someone', '.'] [ True]\n",
      "['Christine', 'does', \"n't\", 'cuddle', 'someone', '.'] [ True]\n",
      "['Philip', 'does', \"n't\", 'cuddle', 'someone', '.'] [ True]\n",
      "['Katherine', 'does', \"n't\", 'cuddle', 'someone', '.'] [ True]\n",
      "['Eric', 'does', \"n't\", 'cuddle', 'someone', '.'] [ True]\n",
      "['Jim', 'does', \"n't\", 'cuddle', 'someone', '.'] [ True]\n",
      "['Johnny', 'does', \"n't\", 'cuddle', 'someone', '.'] [ True]\n",
      "['Anna', 'does', \"n't\", 'cuddle', 'someone', '.'] [ True]\n",
      "['Diana', 'does', \"n't\", 'cuddle', 'someone', '.'] [ True]\n",
      "['Simon', 'does', \"n't\", 'cuddle', 'someone', '.'] [ True]\n",
      "['Ryan', 'does', \"n't\", 'cuddle', 'someone', '.'] [ True]\n",
      "['Christine', 'does', \"n't\", 'cuddle', 'someone', '.'] [ True]\n",
      "['Patricia', 'does', \"n't\", 'cuddle', 'someone', '.'] [ True]\n",
      "['Ruth', 'does', \"n't\", 'cuddle', 'someone', '.'] [ True]\n",
      "['Richard', 'does', \"n't\", 'cuddle', 'someone', '.'] [ True]\n",
      "['Bobby', 'does', \"n't\", 'cuddle', 'someone', '.'] [ True]\n",
      "['Helen', 'does', \"n't\", 'cuddle', 'someone', '.'] [ True]\n",
      "['Katie', 'does', \"n't\", 'cuddle', 'someone', '.'] [ True]\n"
     ]
    }
   ],
   "source": [
    "# initialize editor object\n",
    "editor = Editor()\n",
    "\n",
    "# create examples ARG0\n",
    "t = editor.template(\"{first_name} doesn't cuddle someone.\", meta=True,nsamples=50, remove_duplicates=True)\n",
    "\n",
    "with open('/datasets/active_arg0_negation1.2_bert.txt', 'w') as f:\n",
    "    print(t.data, file = f)\n",
    "\n",
    "# initialize a test object\n",
    "test = MFT(**t, name = 'detect_arg0_name_default_position', expect=expect_arg0)\n",
    "output = test.run(predict_and_conf)\n",
    "test.summary(format_example_fn=format_srl)\n",
    "i = test.results['preds']\n",
    "expect_for_i = test.results['expect_results']\n",
    "with open ('/results/active_arg0_negation1.2_bert.csv','w') as f:\n",
    "    writer = csv.writer(f)\n",
    "    for result, exp in zip(i, expect_for_i):\n",
    "        \n",
    "        case = result['words']\n",
    "        exp = exp\n",
    "        writer.writerow([case, exp])\n",
    "        print(case,exp)"
   ]
  },
  {
   "cell_type": "code",
   "execution_count": 37,
   "metadata": {},
   "outputs": [],
   "source": [
    "def format_srl(x, pred, conf, label=None, meta=None):\n",
    "    \n",
    "    return pred['verbs'][0]['description']"
   ]
  },
  {
   "cell_type": "code",
   "execution_count": 38,
   "metadata": {},
   "outputs": [],
   "source": [
    "def get_arg(pred, arg_target='ARG1'):\n",
    "    # we assume one predicate:\n",
    "    predicate_arguments = pred['verbs'][0]\n",
    "    #print(predicate_arguments)\n",
    "    words = pred['words']\n",
    "    tags = predicate_arguments['tags']\n",
    "    \n",
    "    arg_list = []\n",
    "    for t, w in zip(tags, words):\n",
    "        arg = t\n",
    "        if '-' in t:\n",
    "            arg = t.split('-')[1]\n",
    "        if arg == arg_target:\n",
    "            arg_list.append(w)\n",
    "    arg_set = set(arg_list)\n",
    "    return arg_set"
   ]
  },
  {
   "cell_type": "code",
   "execution_count": 39,
   "metadata": {},
   "outputs": [],
   "source": [
    "def format_srl(x, pred, conf, label=None, meta=None):\n",
    "    results = []\n",
    "    predicate_structure = pred['verbs'][0]['description']\n",
    "        \n",
    "    return predicate_structure"
   ]
  },
  {
   "cell_type": "code",
   "execution_count": 40,
   "metadata": {},
   "outputs": [],
   "source": [
    "def found_arg0_people(x, pred, conf, label=None, meta=None):\n",
    "    \n",
    "    # people should be recognized as arg1\n",
    "\n",
    "    people = set([meta['first_name']])\n",
    "    arg_0 = get_arg(pred, arg_target='ARG0')\n",
    "\n",
    "    if arg_0 == people:\n",
    "        pass_ = True\n",
    "    else:\n",
    "        pass_ = False\n",
    "    return pass_\n",
    "\n",
    "\n",
    "expect_arg0 = Expect.single(found_arg0_people)"
   ]
  },
  {
   "cell_type": "code",
   "execution_count": 41,
   "metadata": {},
   "outputs": [
    {
     "name": "stdout",
     "output_type": "stream",
     "text": [
      "Predicting 50 examples\n",
      "Test cases:      50\n",
      "Fails (rate):    0 (0.0%)\n",
      "['Fiona', 'cuddled', 'no', 'one', '.'] [ True]\n",
      "['Edith', 'cuddled', 'no', 'one', '.'] [ True]\n",
      "['Eric', 'cuddled', 'no', 'one', '.'] [ True]\n",
      "['Alex', 'cuddled', 'no', 'one', '.'] [ True]\n",
      "['Robert', 'cuddled', 'no', 'one', '.'] [ True]\n",
      "['Pamela', 'cuddled', 'no', 'one', '.'] [ True]\n",
      "['Laura', 'cuddled', 'no', 'one', '.'] [ True]\n",
      "['Alex', 'cuddled', 'no', 'one', '.'] [ True]\n",
      "['John', 'cuddled', 'no', 'one', '.'] [ True]\n",
      "['Arthur', 'cuddled', 'no', 'one', '.'] [ True]\n",
      "['Jean', 'cuddled', 'no', 'one', '.'] [ True]\n",
      "['Karen', 'cuddled', 'no', 'one', '.'] [ True]\n",
      "['Mary', 'cuddled', 'no', 'one', '.'] [ True]\n",
      "['Eleanor', 'cuddled', 'no', 'one', '.'] [ True]\n",
      "['Patricia', 'cuddled', 'no', 'one', '.'] [ True]\n",
      "['Ian', 'cuddled', 'no', 'one', '.'] [ True]\n",
      "['Ellen', 'cuddled', 'no', 'one', '.'] [ True]\n",
      "['Susan', 'cuddled', 'no', 'one', '.'] [ True]\n",
      "['Alexandra', 'cuddled', 'no', 'one', '.'] [ True]\n",
      "['Lynn', 'cuddled', 'no', 'one', '.'] [ True]\n",
      "['Harold', 'cuddled', 'no', 'one', '.'] [ True]\n",
      "['Bobby', 'cuddled', 'no', 'one', '.'] [ True]\n",
      "['Adam', 'cuddled', 'no', 'one', '.'] [ True]\n",
      "['Lawrence', 'cuddled', 'no', 'one', '.'] [ True]\n",
      "['Alfred', 'cuddled', 'no', 'one', '.'] [ True]\n",
      "['Ray', 'cuddled', 'no', 'one', '.'] [ True]\n",
      "['Martin', 'cuddled', 'no', 'one', '.'] [ True]\n",
      "['Christopher', 'cuddled', 'no', 'one', '.'] [ True]\n",
      "['Marie', 'cuddled', 'no', 'one', '.'] [ True]\n",
      "['Charles', 'cuddled', 'no', 'one', '.'] [ True]\n",
      "['Charlie', 'cuddled', 'no', 'one', '.'] [ True]\n",
      "['Scott', 'cuddled', 'no', 'one', '.'] [ True]\n",
      "['Leslie', 'cuddled', 'no', 'one', '.'] [ True]\n",
      "['Steven', 'cuddled', 'no', 'one', '.'] [ True]\n",
      "['Matthew', 'cuddled', 'no', 'one', '.'] [ True]\n",
      "['Daniel', 'cuddled', 'no', 'one', '.'] [ True]\n",
      "['Carl', 'cuddled', 'no', 'one', '.'] [ True]\n",
      "['Barbara', 'cuddled', 'no', 'one', '.'] [ True]\n",
      "['Billy', 'cuddled', 'no', 'one', '.'] [ True]\n",
      "['Richard', 'cuddled', 'no', 'one', '.'] [ True]\n",
      "['Jane', 'cuddled', 'no', 'one', '.'] [ True]\n",
      "['Paul', 'cuddled', 'no', 'one', '.'] [ True]\n",
      "['Melissa', 'cuddled', 'no', 'one', '.'] [ True]\n",
      "['Jeff', 'cuddled', 'no', 'one', '.'] [ True]\n",
      "['Emily', 'cuddled', 'no', 'one', '.'] [ True]\n",
      "['Frank', 'cuddled', 'no', 'one', '.'] [ True]\n",
      "['Kathy', 'cuddled', 'no', 'one', '.'] [ True]\n",
      "['Karen', 'cuddled', 'no', 'one', '.'] [ True]\n",
      "['Louise', 'cuddled', 'no', 'one', '.'] [ True]\n",
      "['Wendy', 'cuddled', 'no', 'one', '.'] [ True]\n"
     ]
    }
   ],
   "source": [
    "# initialize editor object\n",
    "editor = Editor()\n",
    "\n",
    "# create examples ARG0\n",
    "t = editor.template(\"{first_name} cuddled no one.\", meta=True,nsamples=50, remove_duplicates=True)\n",
    "\n",
    "with open('/datasets/active_arg0_negation2_bert.txt', 'w') as f:\n",
    "    print(t.data, file = f)\n",
    "\n",
    "# initialize a test object\n",
    "test = MFT(**t, name = 'detect_arg0_name_default_position', expect=expect_arg0)\n",
    "output = test.run(predict_and_conf)\n",
    "test.summary(format_example_fn=format_srl)\n",
    "i = test.results['preds']\n",
    "expect_for_i = test.results['expect_results']\n",
    "with open ('/results/active_arg0_negation2_bert.csv','w') as f:\n",
    "    writer = csv.writer(f)\n",
    "    for result, exp in zip(i, expect_for_i):\n",
    "        \n",
    "        case = result['words']\n",
    "        exp = exp\n",
    "        writer.writerow([case, exp])\n",
    "        print(case,exp)"
   ]
  },
  {
   "cell_type": "markdown",
   "metadata": {},
   "source": [
    "# End of Notebook"
   ]
  }
 ],
 "metadata": {
  "interpreter": {
   "hash": "bd49f4a79699f83ef7850393535972c01524840716cd7422a2ae2f1bef054ba5"
  },
  "kernelspec": {
   "display_name": "Python 3.9.7 ('base')",
   "language": "python",
   "name": "python3"
  },
  "language_info": {
   "codemirror_mode": {
    "name": "ipython",
    "version": 3
   },
   "file_extension": ".py",
   "mimetype": "text/x-python",
   "name": "python",
   "nbconvert_exporter": "python",
   "pygments_lexer": "ipython3",
   "version": "3.9.7"
  },
  "orig_nbformat": 4
 },
 "nbformat": 4,
 "nbformat_minor": 2
}
