{
 "cells": [
  {
   "cell_type": "markdown",
   "metadata": {},
   "source": [
    "# Gardenpath Sentence on AllenNLP SRL BERT"
   ]
  },
  {
   "cell_type": "code",
   "execution_count": 1,
   "metadata": {},
   "outputs": [
    {
     "name": "stderr",
     "output_type": "stream",
     "text": [
      "/home/elena/anaconda3/lib/python3.9/site-packages/pkg_resources/__init__.py:122: PkgResourcesDeprecationWarning: 4.0.0-unsupported is an invalid version and will not be supported in a future release\n",
      "  warnings.warn(\n"
     ]
    }
   ],
   "source": [
    "from allennlp_models.pretrained import load_predictor"
   ]
  },
  {
   "cell_type": "code",
   "execution_count": 2,
   "metadata": {},
   "outputs": [],
   "source": [
    "import checklist\n",
    "from checklist.editor import Editor\n",
    "from checklist.perturb import Perturb\n",
    "from checklist.test_types import MFT, INV, DIR\n",
    "from checklist.expect import Expect"
   ]
  },
  {
   "cell_type": "code",
   "execution_count": 3,
   "metadata": {},
   "outputs": [],
   "source": [
    "import csv"
   ]
  },
  {
   "cell_type": "code",
   "execution_count": 4,
   "metadata": {},
   "outputs": [],
   "source": [
    "from checklist.pred_wrapper import PredictorWrapper"
   ]
  },
  {
   "cell_type": "code",
   "execution_count": 5,
   "metadata": {},
   "outputs": [],
   "source": [
    "import logging\n",
    "logging.getLogger('allennlp.common.params').disabled = True \n",
    "logging.getLogger('allennlp.nn.initializers').disabled = True \n",
    "logging.getLogger('allennlp.modules.token_embedders.embedding').disabled = True \n",
    "logging.getLogger('urllib3.connectionpool').disabled = True \n",
    "logging.getLogger('allennlp.common.plugins').disabled = True \n",
    "logging.getLogger('allennlp.common.model_card').disabled = True \n",
    "logging.getLogger('allennlp.models.archival').disabled = True \n",
    "logging.getLogger('allennlp.data.vocabulary').disabled = True \n",
    "logging.getLogger('cached_path').disabled = True"
   ]
  },
  {
   "cell_type": "code",
   "execution_count": 6,
   "metadata": {},
   "outputs": [
    {
     "name": "stderr",
     "output_type": "stream",
     "text": [
      "Some weights of the model checkpoint at bert-base-uncased were not used when initializing BertModel: ['cls.predictions.transform.dense.weight', 'cls.predictions.transform.dense.bias', 'cls.predictions.transform.LayerNorm.weight', 'cls.seq_relationship.bias', 'cls.seq_relationship.weight', 'cls.predictions.transform.LayerNorm.bias', 'cls.predictions.decoder.weight', 'cls.predictions.bias']\n",
      "- This IS expected if you are initializing BertModel from the checkpoint of a model trained on another task or with another architecture (e.g. initializing a BertForSequenceClassification model from a BertForPreTraining model).\n",
      "- This IS NOT expected if you are initializing BertModel from the checkpoint of a model that you expect to be exactly identical (initializing a BertForSequenceClassification model from a BertForSequenceClassification model).\n"
     ]
    },
    {
     "data": {
      "text/plain": [
       "{'verbs': [{'verb': 'painted',\n",
       "   'description': '[ARG0: John] [V: painted] [ARG1: the wall] [ARG2: with cracks] .',\n",
       "   'tags': ['B-ARG0', 'B-V', 'B-ARG1', 'I-ARG1', 'B-ARG2', 'I-ARG2', 'O']}],\n",
       " 'words': ['John', 'painted', 'the', 'wall', 'with', 'cracks', '.']}"
      ]
     },
     "execution_count": 6,
     "metadata": {},
     "output_type": "execute_result"
    }
   ],
   "source": [
    "srl_predictor = load_predictor('structured-prediction-srl-bert')\n",
    "output = srl_predictor.predict(\"John painted the wall with cracks.\")\n",
    "output"
   ]
  },
  {
   "cell_type": "code",
   "execution_count": 7,
   "metadata": {},
   "outputs": [],
   "source": [
    "def predict_srl(data):\n",
    "    \n",
    "    pred = []\n",
    "    for d in data:\n",
    "        pred.append(srl_predictor.predict(d))\n",
    "    return pred\n",
    "\n",
    "predict_and_conf = PredictorWrapper.wrap_predict(predict_srl)"
   ]
  },
  {
   "cell_type": "code",
   "execution_count": 8,
   "metadata": {},
   "outputs": [
    {
     "data": {
      "text/plain": [
       "([{'verbs': [{'verb': 'painted',\n",
       "     'description': '[ARG0: John] [V: painted] [ARG1: the wall] [ARG2: with cracks] .',\n",
       "     'tags': ['B-ARG0', 'B-V', 'B-ARG1', 'I-ARG1', 'B-ARG2', 'I-ARG2', 'O']}],\n",
       "   'words': ['John', 'painted', 'the', 'wall', 'with', 'cracks', '.']}],\n",
       " array([1.]))"
      ]
     },
     "execution_count": 8,
     "metadata": {},
     "output_type": "execute_result"
    }
   ],
   "source": [
    "d = [\"John painted the wall with cracks.\"]\n",
    "pred = predict_and_conf(d)\n",
    "pred"
   ]
  },
  {
   "cell_type": "code",
   "execution_count": 9,
   "metadata": {},
   "outputs": [],
   "source": [
    "def format_srl(x, pred, conf, label=None, meta=None):\n",
    "    \n",
    "    return pred['verbs'][0]['description']"
   ]
  },
  {
   "cell_type": "code",
   "execution_count": 10,
   "metadata": {},
   "outputs": [],
   "source": [
    "def get_arg(pred, arg_target='ARG1'):\n",
    "    # we assume one predicate:\n",
    "    predicate_arguments = pred['verbs'][0]\n",
    "    #print(predicate_arguments)\n",
    "    words = pred['words']\n",
    "    tags = predicate_arguments['tags']\n",
    "    \n",
    "    arg_list = []\n",
    "    for t, w in zip(tags, words):\n",
    "        arg = t\n",
    "        if '-' in t:\n",
    "            arg = t.split('-')[1]\n",
    "        if arg == arg_target:\n",
    "            arg_list.append(w)\n",
    "    arg_set = set(arg_list)\n",
    "    return arg_set"
   ]
  },
  {
   "cell_type": "code",
   "execution_count": 11,
   "metadata": {},
   "outputs": [],
   "source": [
    "def format_srl(x, pred, conf, label=None, meta=None):\n",
    "    results = []\n",
    "    predicate_structure = pred['verbs'][0]['description']\n",
    "        \n",
    "    return predicate_structure"
   ]
  },
  {
   "cell_type": "code",
   "execution_count": 12,
   "metadata": {},
   "outputs": [],
   "source": [
    "def found_arg0_people(x, pred, conf, label=None, meta=None):\n",
    "    \n",
    "    # people should be recognized as arg1\n",
    "\n",
    "    people = set([meta['first_name']])\n",
    "    arg_0 = get_arg(pred, arg_target='ARG0')\n",
    "\n",
    "    if arg_0 == people:\n",
    "        pass_ = True\n",
    "    else:\n",
    "        pass_ = False\n",
    "    return pass_\n",
    "\n",
    "\n",
    "expect_arg0 = Expect.single(found_arg0_people)"
   ]
  },
  {
   "cell_type": "code",
   "execution_count": 13,
   "metadata": {},
   "outputs": [],
   "source": [
    "object = ['the wall with cracks', 'the plate with flowers', 'the table with cracks', 'the ceiling with cracks']"
   ]
  },
  {
   "cell_type": "code",
   "execution_count": 14,
   "metadata": {},
   "outputs": [],
   "source": [
    "def found_arg1_people(x, pred, conf, label=None, meta=None):\n",
    "    \n",
    "    # people should be recognized as arg1\n",
    "\n",
    "    object = set([meta['object']])\n",
    "    arg_1 = get_arg(pred, arg_target='ARG1')\n",
    "\n",
    "    if arg_1 == object:\n",
    "        pass_ = True\n",
    "    else:\n",
    "        pass_ = False\n",
    "    return pass_\n",
    "\n",
    "\n",
    "expect_arg1 = Expect.single(found_arg1_people)"
   ]
  },
  {
   "cell_type": "code",
   "execution_count": 15,
   "metadata": {},
   "outputs": [
    {
     "name": "stdout",
     "output_type": "stream",
     "text": [
      "Predicting 100 examples\n",
      "Test cases:      100\n",
      "Fails (rate):    100 (100.0%)\n",
      "\n",
      "Example fails:\n",
      "[ARG0: Amy] [V: painted] [ARG1: the ceiling] [ARG2: with cracks] .\n",
      "----\n",
      "[ARG0: Bob] [V: painted] [ARG1: the wall] [ARG2: with cracks] .\n",
      "----\n",
      "[ARG0: Colin] [V: painted] [ARG1: the plate] [ARG2: with flowers] .\n",
      "----\n",
      "['Bobby', 'painted', 'the', 'ceiling', 'with', 'cracks', '.'] [False]\n",
      "['Nick', 'painted', 'the', 'wall', 'with', 'cracks', '.'] [False]\n",
      "['Suzanne', 'painted', 'the', 'plate', 'with', 'flowers', '.'] [False]\n",
      "['Emily', 'painted', 'the', 'table', 'with', 'cracks', '.'] [False]\n",
      "['Laura', 'painted', 'the', 'table', 'with', 'cracks', '.'] [False]\n",
      "['Katherine', 'painted', 'the', 'ceiling', 'with', 'cracks', '.'] [False]\n",
      "['Martin', 'painted', 'the', 'table', 'with', 'cracks', '.'] [False]\n",
      "['Victoria', 'painted', 'the', 'table', 'with', 'cracks', '.'] [False]\n",
      "['Bruce', 'painted', 'the', 'wall', 'with', 'cracks', '.'] [False]\n",
      "['Susan', 'painted', 'the', 'plate', 'with', 'flowers', '.'] [False]\n",
      "['Judith', 'painted', 'the', 'ceiling', 'with', 'cracks', '.'] [False]\n",
      "['Anna', 'painted', 'the', 'table', 'with', 'cracks', '.'] [False]\n",
      "['Bob', 'painted', 'the', 'wall', 'with', 'cracks', '.'] [False]\n",
      "['Bruce', 'painted', 'the', 'plate', 'with', 'flowers', '.'] [False]\n",
      "['Larry', 'painted', 'the', 'table', 'with', 'cracks', '.'] [False]\n",
      "['Lawrence', 'painted', 'the', 'wall', 'with', 'cracks', '.'] [False]\n",
      "['Katie', 'painted', 'the', 'wall', 'with', 'cracks', '.'] [False]\n",
      "['Susan', 'painted', 'the', 'plate', 'with', 'flowers', '.'] [False]\n",
      "['Louise', 'painted', 'the', 'plate', 'with', 'flowers', '.'] [False]\n",
      "['Christopher', 'painted', 'the', 'ceiling', 'with', 'cracks', '.'] [False]\n",
      "['Sam', 'painted', 'the', 'plate', 'with', 'flowers', '.'] [False]\n",
      "['Wendy', 'painted', 'the', 'plate', 'with', 'flowers', '.'] [False]\n",
      "['Colin', 'painted', 'the', 'table', 'with', 'cracks', '.'] [False]\n",
      "['Charles', 'painted', 'the', 'table', 'with', 'cracks', '.'] [False]\n",
      "['Scott', 'painted', 'the', 'table', 'with', 'cracks', '.'] [False]\n",
      "['Katie', 'painted', 'the', 'plate', 'with', 'flowers', '.'] [False]\n",
      "['Fiona', 'painted', 'the', 'table', 'with', 'cracks', '.'] [False]\n",
      "['Stephen', 'painted', 'the', 'ceiling', 'with', 'cracks', '.'] [False]\n",
      "['Howard', 'painted', 'the', 'wall', 'with', 'cracks', '.'] [False]\n",
      "['Steve', 'painted', 'the', 'wall', 'with', 'cracks', '.'] [False]\n",
      "['Sara', 'painted', 'the', 'ceiling', 'with', 'cracks', '.'] [False]\n",
      "['Andrea', 'painted', 'the', 'wall', 'with', 'cracks', '.'] [False]\n",
      "['Diane', 'painted', 'the', 'plate', 'with', 'flowers', '.'] [False]\n",
      "['Ashley', 'painted', 'the', 'wall', 'with', 'cracks', '.'] [False]\n",
      "['Mary', 'painted', 'the', 'table', 'with', 'cracks', '.'] [False]\n",
      "['Evelyn', 'painted', 'the', 'table', 'with', 'cracks', '.'] [False]\n",
      "['Louis', 'painted', 'the', 'plate', 'with', 'flowers', '.'] [False]\n",
      "['Diane', 'painted', 'the', 'table', 'with', 'cracks', '.'] [False]\n",
      "['Greg', 'painted', 'the', 'wall', 'with', 'cracks', '.'] [False]\n",
      "['Claire', 'painted', 'the', 'ceiling', 'with', 'cracks', '.'] [False]\n",
      "['Harriet', 'painted', 'the', 'ceiling', 'with', 'cracks', '.'] [False]\n",
      "['Kelly', 'painted', 'the', 'plate', 'with', 'flowers', '.'] [False]\n",
      "['Andrea', 'painted', 'the', 'ceiling', 'with', 'cracks', '.'] [False]\n",
      "['Steve', 'painted', 'the', 'plate', 'with', 'flowers', '.'] [False]\n",
      "['Keith', 'painted', 'the', 'plate', 'with', 'flowers', '.'] [False]\n",
      "['Marie', 'painted', 'the', 'plate', 'with', 'flowers', '.'] [False]\n",
      "['Helen', 'painted', 'the', 'plate', 'with', 'flowers', '.'] [False]\n",
      "['Carolyn', 'painted', 'the', 'wall', 'with', 'cracks', '.'] [False]\n",
      "['Ron', 'painted', 'the', 'ceiling', 'with', 'cracks', '.'] [False]\n",
      "['Patricia', 'painted', 'the', 'wall', 'with', 'cracks', '.'] [False]\n",
      "['Mark', 'painted', 'the', 'wall', 'with', 'cracks', '.'] [False]\n",
      "['Michael', 'painted', 'the', 'wall', 'with', 'cracks', '.'] [False]\n",
      "['Mike', 'painted', 'the', 'ceiling', 'with', 'cracks', '.'] [False]\n",
      "['Patrick', 'painted', 'the', 'table', 'with', 'cracks', '.'] [False]\n",
      "['Jane', 'painted', 'the', 'plate', 'with', 'flowers', '.'] [False]\n",
      "['Pamela', 'painted', 'the', 'ceiling', 'with', 'cracks', '.'] [False]\n",
      "['Alexander', 'painted', 'the', 'ceiling', 'with', 'cracks', '.'] [False]\n",
      "['Tony', 'painted', 'the', 'ceiling', 'with', 'cracks', '.'] [False]\n",
      "['Harry', 'painted', 'the', 'ceiling', 'with', 'cracks', '.'] [False]\n",
      "['Florence', 'painted', 'the', 'table', 'with', 'cracks', '.'] [False]\n",
      "['Johnny', 'painted', 'the', 'wall', 'with', 'cracks', '.'] [False]\n",
      "['Ashley', 'painted', 'the', 'ceiling', 'with', 'cracks', '.'] [False]\n",
      "['Michael', 'painted', 'the', 'ceiling', 'with', 'cracks', '.'] [False]\n",
      "['Angela', 'painted', 'the', 'wall', 'with', 'cracks', '.'] [False]\n",
      "['Melissa', 'painted', 'the', 'ceiling', 'with', 'cracks', '.'] [False]\n",
      "['Charles', 'painted', 'the', 'wall', 'with', 'cracks', '.'] [False]\n",
      "['Sandra', 'painted', 'the', 'plate', 'with', 'flowers', '.'] [False]\n",
      "['Caroline', 'painted', 'the', 'table', 'with', 'cracks', '.'] [False]\n",
      "['Stephanie', 'painted', 'the', 'table', 'with', 'cracks', '.'] [False]\n",
      "['Bobby', 'painted', 'the', 'table', 'with', 'cracks', '.'] [False]\n",
      "['Amanda', 'painted', 'the', 'ceiling', 'with', 'cracks', '.'] [False]\n",
      "['Henry', 'painted', 'the', 'ceiling', 'with', 'cracks', '.'] [False]\n",
      "['Simon', 'painted', 'the', 'table', 'with', 'cracks', '.'] [False]\n",
      "['Ann', 'painted', 'the', 'plate', 'with', 'flowers', '.'] [False]\n",
      "['Ian', 'painted', 'the', 'wall', 'with', 'cracks', '.'] [False]\n",
      "['Ron', 'painted', 'the', 'ceiling', 'with', 'cracks', '.'] [False]\n",
      "['Laura', 'painted', 'the', 'ceiling', 'with', 'cracks', '.'] [False]\n",
      "['Kathleen', 'painted', 'the', 'plate', 'with', 'flowers', '.'] [False]\n",
      "['Jack', 'painted', 'the', 'table', 'with', 'cracks', '.'] [False]\n",
      "['Alice', 'painted', 'the', 'ceiling', 'with', 'cracks', '.'] [False]\n",
      "['Roy', 'painted', 'the', 'ceiling', 'with', 'cracks', '.'] [False]\n",
      "['Philip', 'painted', 'the', 'plate', 'with', 'flowers', '.'] [False]\n",
      "['Kathryn', 'painted', 'the', 'plate', 'with', 'flowers', '.'] [False]\n",
      "['Melissa', 'painted', 'the', 'ceiling', 'with', 'cracks', '.'] [False]\n",
      "['Samuel', 'painted', 'the', 'ceiling', 'with', 'cracks', '.'] [False]\n",
      "['Eric', 'painted', 'the', 'wall', 'with', 'cracks', '.'] [False]\n",
      "['Leslie', 'painted', 'the', 'ceiling', 'with', 'cracks', '.'] [False]\n",
      "['Anna', 'painted', 'the', 'plate', 'with', 'flowers', '.'] [False]\n",
      "['Lauren', 'painted', 'the', 'plate', 'with', 'flowers', '.'] [False]\n",
      "['Stephanie', 'painted', 'the', 'table', 'with', 'cracks', '.'] [False]\n",
      "['Jack', 'painted', 'the', 'plate', 'with', 'flowers', '.'] [False]\n",
      "['Anthony', 'painted', 'the', 'ceiling', 'with', 'cracks', '.'] [False]\n",
      "['Amy', 'painted', 'the', 'ceiling', 'with', 'cracks', '.'] [False]\n",
      "['Virginia', 'painted', 'the', 'ceiling', 'with', 'cracks', '.'] [False]\n",
      "['Annie', 'painted', 'the', 'ceiling', 'with', 'cracks', '.'] [False]\n",
      "['Lynn', 'painted', 'the', 'ceiling', 'with', 'cracks', '.'] [False]\n",
      "['Jason', 'painted', 'the', 'plate', 'with', 'flowers', '.'] [False]\n",
      "['Bill', 'painted', 'the', 'ceiling', 'with', 'cracks', '.'] [False]\n",
      "['Colin', 'painted', 'the', 'plate', 'with', 'flowers', '.'] [False]\n",
      "['Matthew', 'painted', 'the', 'plate', 'with', 'flowers', '.'] [False]\n"
     ]
    }
   ],
   "source": [
    "# initialize editor object\n",
    "editor = Editor()\n",
    "\n",
    "# create examples\n",
    "t = editor.template(\"{first_name} painted {object}.\", object = object, meta=True,nsamples=100, remove_duplicates=True)\n",
    "# initialize a test object\n",
    "with open('/datasets/gardenpath_bert.txt', 'w') as f:\n",
    "    print(t.data, file = f)\n",
    "\n",
    "# initialize a test object\n",
    "test = MFT(**t, name = 'detect_arg0_name_default_position', expect=expect_arg1)\n",
    "output = test.run(predict_and_conf)\n",
    "test.summary(format_example_fn=format_srl)\n",
    "i = test.results['preds']\n",
    "expect_for_i = test.results['expect_results']\n",
    "with open ('/results/gardenpath_bert.csv','w') as f:\n",
    "    writer = csv.writer(f)\n",
    "    for result, exp in zip(i, expect_for_i):\n",
    "        \n",
    "        case = result['words']\n",
    "        exp = exp\n",
    "        writer.writerow([case, exp])\n",
    "        print(case,exp) "
   ]
  },
  {
   "cell_type": "markdown",
   "metadata": {},
   "source": [
    "# End of Notebook"
   ]
  }
 ],
 "metadata": {
  "interpreter": {
   "hash": "bd49f4a79699f83ef7850393535972c01524840716cd7422a2ae2f1bef054ba5"
  },
  "kernelspec": {
   "display_name": "Python 3.9.7 ('base')",
   "language": "python",
   "name": "python3"
  },
  "language_info": {
   "codemirror_mode": {
    "name": "ipython",
    "version": 3
   },
   "file_extension": ".py",
   "mimetype": "text/x-python",
   "name": "python",
   "nbconvert_exporter": "python",
   "pygments_lexer": "ipython3",
   "version": "3.9.7"
  },
  "orig_nbformat": 4
 },
 "nbformat": 4,
 "nbformat_minor": 2
}
