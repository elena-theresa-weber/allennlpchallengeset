{
 "cells": [
  {
   "cell_type": "markdown",
   "metadata": {},
   "source": [
    "# Gardenpath Sentence on AllenNLP SRL "
   ]
  },
  {
   "cell_type": "code",
   "execution_count": 33,
   "metadata": {},
   "outputs": [],
   "source": [
    "from allennlp_models.pretrained import load_predictor"
   ]
  },
  {
   "cell_type": "code",
   "execution_count": 34,
   "metadata": {},
   "outputs": [],
   "source": [
    "import checklist\n",
    "from checklist.editor import Editor\n",
    "from checklist.perturb import Perturb\n",
    "from checklist.test_types import MFT, INV, DIR\n",
    "from checklist.expect import Expect"
   ]
  },
  {
   "cell_type": "code",
   "execution_count": 35,
   "metadata": {},
   "outputs": [],
   "source": [
    "import csv"
   ]
  },
  {
   "cell_type": "code",
   "execution_count": 36,
   "metadata": {},
   "outputs": [],
   "source": [
    "from checklist.pred_wrapper import PredictorWrapper"
   ]
  },
  {
   "cell_type": "code",
   "execution_count": 37,
   "metadata": {},
   "outputs": [],
   "source": [
    "import logging\n",
    "logging.getLogger('allennlp.common.params').disabled = True \n",
    "logging.getLogger('allennlp.nn.initializers').disabled = True \n",
    "logging.getLogger('allennlp.modules.token_embedders.embedding').disabled = True \n",
    "logging.getLogger('urllib3.connectionpool').disabled = True \n",
    "logging.getLogger('allennlp.common.plugins').disabled = True \n",
    "logging.getLogger('allennlp.common.model_card').disabled = True \n",
    "logging.getLogger('allennlp.models.archival').disabled = True \n",
    "logging.getLogger('allennlp.data.vocabulary').disabled = True \n",
    "logging.getLogger('cached_path').disabled = True"
   ]
  },
  {
   "cell_type": "code",
   "execution_count": 38,
   "metadata": {},
   "outputs": [
    {
     "data": {
      "text/plain": [
       "{'verbs': [{'verb': 'painted',\n",
       "   'description': '[ARG0: John] [V: painted] [ARG1: the wall] [ARG2: with cracks] .',\n",
       "   'tags': ['B-ARG0', 'B-V', 'B-ARG1', 'I-ARG1', 'B-ARG2', 'I-ARG2', 'O']}],\n",
       " 'words': ['John', 'painted', 'the', 'wall', 'with', 'cracks', '.']}"
      ]
     },
     "execution_count": 38,
     "metadata": {},
     "output_type": "execute_result"
    }
   ],
   "source": [
    "srl_predictor = load_predictor('structured-prediction-srl')\n",
    "output = srl_predictor.predict(\"John painted the wall with cracks.\")\n",
    "output"
   ]
  },
  {
   "cell_type": "code",
   "execution_count": 39,
   "metadata": {},
   "outputs": [],
   "source": [
    "def predict_srl(data):\n",
    "    \n",
    "    pred = []\n",
    "    for d in data:\n",
    "        pred.append(srl_predictor.predict(d))\n",
    "    return pred\n",
    "\n",
    "predict_and_conf = PredictorWrapper.wrap_predict(predict_srl)"
   ]
  },
  {
   "cell_type": "code",
   "execution_count": 40,
   "metadata": {},
   "outputs": [
    {
     "data": {
      "text/plain": [
       "([{'verbs': [{'verb': 'painted',\n",
       "     'description': '[ARG0: John] [V: painted] [ARG1: the wall] [ARG2: with cracks] .',\n",
       "     'tags': ['B-ARG0', 'B-V', 'B-ARG1', 'I-ARG1', 'B-ARG2', 'I-ARG2', 'O']}],\n",
       "   'words': ['John', 'painted', 'the', 'wall', 'with', 'cracks', '.']}],\n",
       " array([1.]))"
      ]
     },
     "execution_count": 40,
     "metadata": {},
     "output_type": "execute_result"
    }
   ],
   "source": [
    "d = [\"John painted the wall with cracks.\"]\n",
    "pred = predict_and_conf(d)\n",
    "pred"
   ]
  },
  {
   "cell_type": "code",
   "execution_count": 41,
   "metadata": {},
   "outputs": [],
   "source": [
    "def format_srl(x, pred, conf, label=None, meta=None):\n",
    "    \n",
    "    return pred['verbs'][0]['description']"
   ]
  },
  {
   "cell_type": "code",
   "execution_count": 42,
   "metadata": {},
   "outputs": [],
   "source": [
    "def get_arg(pred, arg_target='ARG1'):\n",
    "    # we assume one predicate:\n",
    "    predicate_arguments = pred['verbs'][0]\n",
    "    #print(predicate_arguments)\n",
    "    words = pred['words']\n",
    "    tags = predicate_arguments['tags']\n",
    "    \n",
    "    arg_list = []\n",
    "    for t, w in zip(tags, words):\n",
    "        arg = t\n",
    "        if '-' in t:\n",
    "            arg = t.split('-')[1]\n",
    "        if arg == arg_target:\n",
    "            arg_list.append(w)\n",
    "    arg_set = set(arg_list)\n",
    "    return arg_set"
   ]
  },
  {
   "cell_type": "code",
   "execution_count": 43,
   "metadata": {},
   "outputs": [],
   "source": [
    "def format_srl(x, pred, conf, label=None, meta=None):\n",
    "    results = []\n",
    "    predicate_structure = pred['verbs'][0]['description']\n",
    "        \n",
    "    return predicate_structure"
   ]
  },
  {
   "cell_type": "code",
   "execution_count": 44,
   "metadata": {},
   "outputs": [],
   "source": [
    "def found_arg0_people(x, pred, conf, label=None, meta=None):\n",
    "    \n",
    "    # people should be recognized as arg1\n",
    "\n",
    "    people = set([meta['first_name']])\n",
    "    arg_0 = get_arg(pred, arg_target='ARG0')\n",
    "\n",
    "    if arg_0 == people:\n",
    "        pass_ = True\n",
    "    else:\n",
    "        pass_ = False\n",
    "    return pass_\n",
    "\n",
    "\n",
    "expect_arg0 = Expect.single(found_arg0_people)"
   ]
  },
  {
   "cell_type": "code",
   "execution_count": 45,
   "metadata": {},
   "outputs": [],
   "source": [
    "object = ['the wall with cracks', 'the plate with flowers', 'the table with cracks', 'the ceiling with cracks']"
   ]
  },
  {
   "cell_type": "code",
   "execution_count": 49,
   "metadata": {},
   "outputs": [],
   "source": [
    "def found_arg1_people(x, pred, conf, label=None, meta=None):\n",
    "    \n",
    "    # people should be recognized as arg1\n",
    "\n",
    "    object = set([meta['object']])\n",
    "    arg_1 = get_arg(pred, arg_target='ARG1')\n",
    "\n",
    "    if arg_1 == object:\n",
    "        pass_ = True\n",
    "    else:\n",
    "        pass_ = False\n",
    "    return pass_\n",
    "\n",
    "\n",
    "expect_arg1 = Expect.single(found_arg1_people)"
   ]
  },
  {
   "cell_type": "code",
   "execution_count": 50,
   "metadata": {},
   "outputs": [
    {
     "name": "stdout",
     "output_type": "stream",
     "text": [
      "Predicting 100 examples\n",
      "Test cases:      100\n",
      "Fails (rate):    100 (100.0%)\n",
      "\n",
      "Example fails:\n",
      "[ARG0: Carl] [V: painted] [ARG1: the table] [ARG2: with cracks] .\n",
      "----\n",
      "[ARG0: Linda] [V: painted] [ARG1: the wall] [ARG2: with cracks] .\n",
      "----\n",
      "[ARG0: Samuel] [V: painted] [ARG1: the table] [ARG2: with cracks] .\n",
      "----\n",
      "['Kathryn', 'painted', 'the', 'plate', 'with', 'flowers', '.'] [False]\n",
      "['Joan', 'painted', 'the', 'wall', 'with', 'cracks', '.'] [False]\n",
      "['Angela', 'painted', 'the', 'table', 'with', 'cracks', '.'] [False]\n",
      "['Angela', 'painted', 'the', 'wall', 'with', 'cracks', '.'] [False]\n",
      "['Anna', 'painted', 'the', 'table', 'with', 'cracks', '.'] [False]\n",
      "['Linda', 'painted', 'the', 'wall', 'with', 'cracks', '.'] [False]\n",
      "['Martin', 'painted', 'the', 'ceiling', 'with', 'cracks', '.'] [False]\n",
      "['Linda', 'painted', 'the', 'plate', 'with', 'flowers', '.'] [False]\n",
      "['Robert', 'painted', 'the', 'plate', 'with', 'flowers', '.'] [False]\n",
      "['James', 'painted', 'the', 'table', 'with', 'cracks', '.'] [False]\n",
      "['Kathy', 'painted', 'the', 'plate', 'with', 'flowers', '.'] [False]\n",
      "['Deborah', 'painted', 'the', 'plate', 'with', 'flowers', '.'] [False]\n",
      "['Donald', 'painted', 'the', 'ceiling', 'with', 'cracks', '.'] [False]\n",
      "['Sharon', 'painted', 'the', 'table', 'with', 'cracks', '.'] [False]\n",
      "['Nicole', 'painted', 'the', 'ceiling', 'with', 'cracks', '.'] [False]\n",
      "['Jennifer', 'painted', 'the', 'plate', 'with', 'flowers', '.'] [False]\n",
      "['Victoria', 'painted', 'the', 'plate', 'with', 'flowers', '.'] [False]\n",
      "['Albert', 'painted', 'the', 'ceiling', 'with', 'cracks', '.'] [False]\n",
      "['Leslie', 'painted', 'the', 'table', 'with', 'cracks', '.'] [False]\n",
      "['Marie', 'painted', 'the', 'plate', 'with', 'flowers', '.'] [False]\n",
      "['Helen', 'painted', 'the', 'plate', 'with', 'flowers', '.'] [False]\n",
      "['Samuel', 'painted', 'the', 'table', 'with', 'cracks', '.'] [False]\n",
      "['Jill', 'painted', 'the', 'table', 'with', 'cracks', '.'] [False]\n",
      "['Amanda', 'painted', 'the', 'table', 'with', 'cracks', '.'] [False]\n",
      "['Jerry', 'painted', 'the', 'table', 'with', 'cracks', '.'] [False]\n",
      "['Dick', 'painted', 'the', 'plate', 'with', 'flowers', '.'] [False]\n",
      "['Kate', 'painted', 'the', 'wall', 'with', 'cracks', '.'] [False]\n",
      "['Rebecca', 'painted', 'the', 'plate', 'with', 'flowers', '.'] [False]\n",
      "['Alex', 'painted', 'the', 'table', 'with', 'cracks', '.'] [False]\n",
      "['Andrea', 'painted', 'the', 'ceiling', 'with', 'cracks', '.'] [False]\n",
      "['Julie', 'painted', 'the', 'wall', 'with', 'cracks', '.'] [False]\n",
      "['Ann', 'painted', 'the', 'plate', 'with', 'flowers', '.'] [False]\n",
      "['Harriet', 'painted', 'the', 'table', 'with', 'cracks', '.'] [False]\n",
      "['Philip', 'painted', 'the', 'table', 'with', 'cracks', '.'] [False]\n",
      "['Harry', 'painted', 'the', 'ceiling', 'with', 'cracks', '.'] [False]\n",
      "['Jack', 'painted', 'the', 'table', 'with', 'cracks', '.'] [False]\n",
      "['Alan', 'painted', 'the', 'ceiling', 'with', 'cracks', '.'] [False]\n",
      "['Gary', 'painted', 'the', 'wall', 'with', 'cracks', '.'] [False]\n",
      "['Stephen', 'painted', 'the', 'table', 'with', 'cracks', '.'] [False]\n",
      "['Pamela', 'painted', 'the', 'table', 'with', 'cracks', '.'] [False]\n",
      "['Charlotte', 'painted', 'the', 'plate', 'with', 'flowers', '.'] [False]\n",
      "['Martin', 'painted', 'the', 'table', 'with', 'cracks', '.'] [False]\n",
      "['Al', 'painted', 'the', 'plate', 'with', 'flowers', '.'] [False]\n",
      "['Cynthia', 'painted', 'the', 'table', 'with', 'cracks', '.'] [False]\n",
      "['Harry', 'painted', 'the', 'table', 'with', 'cracks', '.'] [False]\n",
      "['Peter', 'painted', 'the', 'ceiling', 'with', 'cracks', '.'] [False]\n",
      "['Ryan', 'painted', 'the', 'plate', 'with', 'flowers', '.'] [False]\n",
      "['Ruth', 'painted', 'the', 'wall', 'with', 'cracks', '.'] [False]\n",
      "['Dan', 'painted', 'the', 'plate', 'with', 'flowers', '.'] [False]\n",
      "['Carl', 'painted', 'the', 'table', 'with', 'cracks', '.'] [False]\n",
      "['Michelle', 'painted', 'the', 'ceiling', 'with', 'cracks', '.'] [False]\n",
      "['Catherine', 'painted', 'the', 'plate', 'with', 'flowers', '.'] [False]\n",
      "['Suzanne', 'painted', 'the', 'plate', 'with', 'flowers', '.'] [False]\n",
      "['Julie', 'painted', 'the', 'wall', 'with', 'cracks', '.'] [False]\n",
      "['Katie', 'painted', 'the', 'plate', 'with', 'flowers', '.'] [False]\n",
      "['Richard', 'painted', 'the', 'ceiling', 'with', 'cracks', '.'] [False]\n",
      "['Ed', 'painted', 'the', 'ceiling', 'with', 'cracks', '.'] [False]\n",
      "['Joseph', 'painted', 'the', 'ceiling', 'with', 'cracks', '.'] [False]\n",
      "['Anne', 'painted', 'the', 'plate', 'with', 'flowers', '.'] [False]\n",
      "['Janet', 'painted', 'the', 'ceiling', 'with', 'cracks', '.'] [False]\n",
      "['Amy', 'painted', 'the', 'wall', 'with', 'cracks', '.'] [False]\n",
      "['Simon', 'painted', 'the', 'table', 'with', 'cracks', '.'] [False]\n",
      "['Colin', 'painted', 'the', 'wall', 'with', 'cracks', '.'] [False]\n",
      "['Ryan', 'painted', 'the', 'plate', 'with', 'flowers', '.'] [False]\n",
      "['Alice', 'painted', 'the', 'wall', 'with', 'cracks', '.'] [False]\n",
      "['Suzanne', 'painted', 'the', 'table', 'with', 'cracks', '.'] [False]\n",
      "['Matt', 'painted', 'the', 'wall', 'with', 'cracks', '.'] [False]\n",
      "['Sue', 'painted', 'the', 'table', 'with', 'cracks', '.'] [False]\n",
      "['Scott', 'painted', 'the', 'table', 'with', 'cracks', '.'] [False]\n",
      "['Colin', 'painted', 'the', 'wall', 'with', 'cracks', '.'] [False]\n",
      "['Matthew', 'painted', 'the', 'plate', 'with', 'flowers', '.'] [False]\n",
      "['Bruce', 'painted', 'the', 'wall', 'with', 'cracks', '.'] [False]\n",
      "['Diana', 'painted', 'the', 'ceiling', 'with', 'cracks', '.'] [False]\n",
      "['Harriet', 'painted', 'the', 'table', 'with', 'cracks', '.'] [False]\n",
      "['Karen', 'painted', 'the', 'plate', 'with', 'flowers', '.'] [False]\n",
      "['Tom', 'painted', 'the', 'wall', 'with', 'cracks', '.'] [False]\n",
      "['Barbara', 'painted', 'the', 'plate', 'with', 'flowers', '.'] [False]\n",
      "['Leslie', 'painted', 'the', 'ceiling', 'with', 'cracks', '.'] [False]\n",
      "['Frederick', 'painted', 'the', 'ceiling', 'with', 'cracks', '.'] [False]\n",
      "['Ron', 'painted', 'the', 'wall', 'with', 'cracks', '.'] [False]\n",
      "['Edith', 'painted', 'the', 'wall', 'with', 'cracks', '.'] [False]\n",
      "['Deborah', 'painted', 'the', 'table', 'with', 'cracks', '.'] [False]\n",
      "['Julie', 'painted', 'the', 'ceiling', 'with', 'cracks', '.'] [False]\n",
      "['Ron', 'painted', 'the', 'wall', 'with', 'cracks', '.'] [False]\n",
      "['Ralph', 'painted', 'the', 'table', 'with', 'cracks', '.'] [False]\n",
      "['Bill', 'painted', 'the', 'ceiling', 'with', 'cracks', '.'] [False]\n",
      "['Julia', 'painted', 'the', 'table', 'with', 'cracks', '.'] [False]\n",
      "['Scott', 'painted', 'the', 'table', 'with', 'cracks', '.'] [False]\n",
      "['Andrew', 'painted', 'the', 'table', 'with', 'cracks', '.'] [False]\n",
      "['Bobby', 'painted', 'the', 'wall', 'with', 'cracks', '.'] [False]\n",
      "['Ryan', 'painted', 'the', 'wall', 'with', 'cracks', '.'] [False]\n",
      "['Ruth', 'painted', 'the', 'table', 'with', 'cracks', '.'] [False]\n",
      "['Jimmy', 'painted', 'the', 'wall', 'with', 'cracks', '.'] [False]\n",
      "['Christine', 'painted', 'the', 'wall', 'with', 'cracks', '.'] [False]\n",
      "['Hugh', 'painted', 'the', 'wall', 'with', 'cracks', '.'] [False]\n",
      "['Laura', 'painted', 'the', 'wall', 'with', 'cracks', '.'] [False]\n",
      "['Ashley', 'painted', 'the', 'ceiling', 'with', 'cracks', '.'] [False]\n",
      "['Larry', 'painted', 'the', 'plate', 'with', 'flowers', '.'] [False]\n",
      "['Edith', 'painted', 'the', 'ceiling', 'with', 'cracks', '.'] [False]\n",
      "['Jason', 'painted', 'the', 'plate', 'with', 'flowers', '.'] [False]\n"
     ]
    }
   ],
   "source": [
    "# initialize editor object\n",
    "editor = Editor()\n",
    "\n",
    "# create examples\n",
    "t = editor.template(\"{first_name} painted {object}.\", object = object, meta=True,nsamples=100, remove_duplicates=True)\n",
    "# initialize a test object\n",
    "with open('/datasets/gardenpath_bilstm.txt', 'w') as f:\n",
    "    print(t.data, file = f)\n",
    "\n",
    "# initialize a test object\n",
    "test = MFT(**t, name = 'detect_arg0_name_default_position', expect=expect_arg1)\n",
    "output = test.run(predict_and_conf)\n",
    "test.summary(format_example_fn=format_srl)\n",
    "i = test.results['preds']\n",
    "expect_for_i = test.results['expect_results']\n",
    "with open ('/results/gardenpath_bilstm.csv','w') as f:\n",
    "    writer = csv.writer(f)\n",
    "    for result, exp in zip(i, expect_for_i):\n",
    "        \n",
    "        case = result['words']\n",
    "        exp = exp\n",
    "        writer.writerow([case, exp])\n",
    "        print(case,exp) "
   ]
  },
  {
   "cell_type": "markdown",
   "metadata": {},
   "source": [
    "# End of Notebook"
   ]
  }
 ],
 "metadata": {
  "interpreter": {
   "hash": "bd49f4a79699f83ef7850393535972c01524840716cd7422a2ae2f1bef054ba5"
  },
  "kernelspec": {
   "display_name": "Python 3.9.7 ('base')",
   "language": "python",
   "name": "python3"
  },
  "language_info": {
   "codemirror_mode": {
    "name": "ipython",
    "version": 3
   },
   "file_extension": ".py",
   "mimetype": "text/x-python",
   "name": "python",
   "nbconvert_exporter": "python",
   "pygments_lexer": "ipython3",
   "version": "3.9.7"
  },
  "orig_nbformat": 4
 },
 "nbformat": 4,
 "nbformat_minor": 2
}
