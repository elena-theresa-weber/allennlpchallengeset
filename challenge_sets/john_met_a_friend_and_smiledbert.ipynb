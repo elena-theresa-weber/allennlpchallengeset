{
  "cells": [
    {
      "cell_type": "code",
      "execution_count": null,
      "id": "a5a5c80e",
      "metadata": {
        "id": "a5a5c80e"
      },
      "outputs": [],
      "source": [
        "from allennlp_models.pretrained import load_predictor"
      ]
    },
    {
      "cell_type": "code",
      "execution_count": null,
      "id": "da462e17",
      "metadata": {
        "id": "da462e17"
      },
      "outputs": [],
      "source": [
        "import checklist\n",
        "from checklist.editor import Editor\n",
        "from checklist.perturb import Perturb\n",
        "from checklist.test_types import MFT, INV, DIR\n",
        "from checklist.expect import Expect"
      ]
    },
    {
      "cell_type": "code",
      "execution_count": null,
      "id": "8281da0f",
      "metadata": {
        "id": "8281da0f"
      },
      "outputs": [],
      "source": [
        "from checklist.pred_wrapper import PredictorWrapper"
      ]
    },
    {
      "cell_type": "code",
      "execution_count": null,
      "id": "a4b63a8e",
      "metadata": {},
      "outputs": [],
      "source": [
        "import logging\n",
        "logging.getLogger('allennlp.common.params').disabled = True \n",
        "logging.getLogger('allennlp.nn.initializers').disabled = True \n",
        "logging.getLogger('allennlp.modules.token_embedders.embedding').disabled = True \n",
        "logging.getLogger('urllib3.connectionpool').disabled = True \n",
        "logging.getLogger('allennlp.common.plugins').disabled = True \n",
        "logging.getLogger('allennlp.common.model_card').disabled = True \n",
        "logging.getLogger('allennlp.models.archival').disabled = True \n",
        "logging.getLogger('allennlp.data.vocabulary').disabled = True \n",
        "logging.getLogger('cached_path').disabled = True"
      ]
    },
    {
      "cell_type": "code",
      "execution_count": null,
      "id": "9f233580",
      "metadata": {
        "id": "9f233580"
      },
      "outputs": [],
      "source": [
        "srl_predictor = load_predictor('structured-prediction-srl-bert')\n",
        "output = srl_predictor.predict(\"John met a friend and smiled.\")\n",
        "output"
      ]
    },
    {
      "cell_type": "code",
      "execution_count": null,
      "id": "5f378c6d",
      "metadata": {
        "id": "5f378c6d"
      },
      "outputs": [],
      "source": [
        "def predict_srl(data):\n",
        "    \n",
        "    pred = []\n",
        "    for d in data:\n",
        "        pred.append(srl_predictor.predict(d))\n",
        "    return pred\n",
        "\n",
        "predict_and_conf = PredictorWrapper.wrap_predict(predict_srl)"
      ]
    },
    {
      "cell_type": "code",
      "execution_count": null,
      "id": "pYw9HXmIXgyk",
      "metadata": {
        "colab": {
          "base_uri": "https://localhost:8080/"
        },
        "id": "pYw9HXmIXgyk",
        "outputId": "8fe37b63-f82f-4526-d9f0-2bd415b2210d"
      },
      "outputs": [],
      "source": [
        "d = [\"John met a friend and smiled.\"]\n",
        "pred = predict_and_conf(d)\n",
        "pred"
      ]
    },
    {
      "cell_type": "code",
      "execution_count": null,
      "id": "6da6e01f",
      "metadata": {
        "id": "6da6e01f"
      },
      "outputs": [],
      "source": [
        "def format_srl(x, pred, conf, label=None, meta=None):\n",
        "    \n",
        "    return pred['verbs'][0]['description']"
      ]
    },
    {
      "cell_type": "code",
      "execution_count": null,
      "id": "fedb9f4a",
      "metadata": {
        "id": "fedb9f4a"
      },
      "outputs": [],
      "source": [
        "def get_arg(pred, arg_target='ARG1'):\n",
        "    # we assume one predicate:\n",
        "    predicate_arguments = pred['verbs'][0]\n",
        "    #print(predicate_arguments)\n",
        "    words = pred['words']\n",
        "    tags = predicate_arguments['tags']\n",
        "    \n",
        "    arg_list = []\n",
        "    for t, w in zip(tags, words):\n",
        "        arg = t\n",
        "        if '-' in t:\n",
        "            arg = t.split('-')[1]\n",
        "        if arg == arg_target:\n",
        "            arg_list.append(w)\n",
        "    arg_set = set(arg_list)\n",
        "    return arg_set"
      ]
    },
    {
      "cell_type": "code",
      "execution_count": null,
      "id": "68261478",
      "metadata": {
        "id": "68261478"
      },
      "outputs": [],
      "source": [
        "# e = get_arg(pred,arg_target='ARG1')\n",
        "# print(e)"
      ]
    },
    {
      "cell_type": "code",
      "execution_count": null,
      "id": "3a8d0f86",
      "metadata": {
        "id": "3a8d0f86"
      },
      "outputs": [],
      "source": [
        "def format_srl(x, pred, conf, label=None, meta=None):\n",
        "    results = []\n",
        "    predicate_structure = pred['verbs'][0]['description']\n",
        "        \n",
        "    return predicate_structure"
      ]
    },
    {
      "cell_type": "code",
      "execution_count": null,
      "id": "UFFWArjFX16E",
      "metadata": {
        "id": "UFFWArjFX16E"
      },
      "outputs": [],
      "source": [
        "def found_arg1_people(x, pred, conf, label=None, meta=None):\n",
        "    \n",
        "    # people should be recognized as arg1\n",
        "\n",
        "    people = set([meta['first_name'], meta['last_name']])\n",
        "    arg_0 = get_arg(pred, arg_target='ARG1')\n",
        "\n",
        "    if arg_0 == people:\n",
        "        pass_ = True\n",
        "    else:\n",
        "        pass_ = False\n",
        "    return pass_\n",
        "\n",
        "\n",
        "expect_arg0 = Expect.single(found_arg1_people)"
      ]
    },
    {
      "cell_type": "code",
      "execution_count": null,
      "id": "JrZ_QX1pKvKV",
      "metadata": {
        "colab": {
          "base_uri": "https://localhost:8080/"
        },
        "id": "JrZ_QX1pKvKV",
        "outputId": "0573ec82-8f2b-40b2-833e-dbb4b2f6a9da"
      },
      "outputs": [],
      "source": [
        "# initialize editor object\n",
        "editor = Editor()\n",
        "\n",
        "# create examples\n",
        "t = editor.template(\"John met {first_name} {last_name} and smiled.\", meta=True, nsamples=1000, remove_duplicates= True)\n",
        "\n",
        "#print(type(t))\n",
        "\n",
        "for k, v in t.items():\n",
        "    print(k, v)"
      ]
    },
    {
      "cell_type": "code",
      "execution_count": null,
      "id": "Cot-Zz13K00K",
      "metadata": {
        "colab": {
          "base_uri": "https://localhost:8080/"
        },
        "id": "Cot-Zz13K00K",
        "outputId": "196a9623-990d-4bba-dc94-c92871fcdbb6"
      },
      "outputs": [],
      "source": [
        "# initialize a rest object\n",
        "test = MFT(**t, name = 'detect_arg0_name_default_position', expect=expect_arg0)\n",
        "test.run(predict_and_conf)\n",
        "test.summary(format_example_fn=format_srl)"
      ]
    },
    {
      "cell_type": "code",
      "execution_count": null,
      "id": "xO33OyNaares",
      "metadata": {
        "id": "xO33OyNaares"
      },
      "outputs": [],
      "source": [
        "import sys\n",
        "#[https://howtodoinjava.com/examples/python-print-to-file/]\n",
        "# Saving the reference of the standard output\n",
        "original_stdout = sys.stdout  \n",
        " \n",
        "with open('bert_result_items_argument_ellipsis.txt', 'w') as f:\n",
        "    sys.stdout = f \n",
        "    for k, v in test.results.items():\n",
        "        print(k, v, file = f)\n",
        "    # Reset the standard output\n",
        "    sys.stdout = original_stdout "
      ]
    }
  ],
  "metadata": {
    "colab": {
      "name": "john_met_a_friend_and_smiled.ipynb",
      "provenance": []
    },
    "kernelspec": {
      "display_name": "Python 3 (ipykernel)",
      "language": "python",
      "name": "python3"
    },
    "language_info": {
      "codemirror_mode": {
        "name": "ipython",
        "version": 3
      },
      "file_extension": ".py",
      "mimetype": "text/x-python",
      "name": "python",
      "nbconvert_exporter": "python",
      "pygments_lexer": "ipython3",
      "version": "3.9.7"
    }
  },
  "nbformat": 4,
  "nbformat_minor": 5
}
